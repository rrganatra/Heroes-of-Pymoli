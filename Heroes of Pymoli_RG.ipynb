{
 "cells": [
  {
   "cell_type": "code",
   "execution_count": 282,
   "metadata": {},
   "outputs": [],
   "source": [
    "import pandas as pd\n",
    "import numpy as np"
   ]
  },
  {
   "cell_type": "code",
   "execution_count": 283,
   "metadata": {},
   "outputs": [
    {
     "data": {
      "text/plain": [
       "['Age', 'Gender', 'Item ID', 'Item Name', 'Price', 'SN']"
      ]
     },
     "execution_count": 283,
     "metadata": {},
     "output_type": "execute_result"
    }
   ],
   "source": [
    "df = pd.read_json(\"purchase_data.json\")\n",
    "df.head()\n",
    "list(df)"
   ]
  },
  {
   "cell_type": "code",
   "execution_count": 284,
   "metadata": {},
   "outputs": [
    {
     "data": {
      "text/plain": [
       "573"
      ]
     },
     "execution_count": 284,
     "metadata": {},
     "output_type": "execute_result"
    }
   ],
   "source": [
    "#player count\n",
    "player_count = len(df[\"SN\"].unique())\n",
    "player_count"
   ]
  },
  {
   "cell_type": "code",
   "execution_count": 285,
   "metadata": {},
   "outputs": [
    {
     "data": {
      "text/plain": [
       "179"
      ]
     },
     "execution_count": 285,
     "metadata": {},
     "output_type": "execute_result"
    }
   ],
   "source": [
    "#Number of Unique Items\n",
    "unique_items = len(df[\"Item Name\"].unique())\n",
    "unique_items"
   ]
  },
  {
   "cell_type": "code",
   "execution_count": 286,
   "metadata": {},
   "outputs": [
    {
     "data": {
      "text/plain": [
       "2.931192307692303"
      ]
     },
     "execution_count": 286,
     "metadata": {},
     "output_type": "execute_result"
    }
   ],
   "source": [
    "#Average Purchase Price\n",
    "avg_price = df[\"Price\"].mean()\n",
    "avg_price"
   ]
  },
  {
   "cell_type": "code",
   "execution_count": 287,
   "metadata": {},
   "outputs": [
    {
     "data": {
      "text/plain": [
       "780"
      ]
     },
     "execution_count": 287,
     "metadata": {},
     "output_type": "execute_result"
    }
   ],
   "source": [
    "#Total Number of Purchases\n",
    "total = len(df)\n",
    "total"
   ]
  },
  {
   "cell_type": "code",
   "execution_count": 288,
   "metadata": {},
   "outputs": [
    {
     "data": {
      "text/plain": [
       "2286.33"
      ]
     },
     "execution_count": 288,
     "metadata": {},
     "output_type": "execute_result"
    }
   ],
   "source": [
    "#Total Revenue\n",
    "revenue = df[\"Price\"].sum()\n",
    "revenue"
   ]
  },
  {
   "cell_type": "code",
   "execution_count": 289,
   "metadata": {},
   "outputs": [
    {
     "data": {
      "text/plain": [
       "Male                     465\n",
       "Female                   100\n",
       "Other / Non-Disclosed      8\n",
       "Name: Gender, dtype: int64"
      ]
     },
     "execution_count": 289,
     "metadata": {},
     "output_type": "execute_result"
    }
   ],
   "source": [
    "#player_counts\n",
    "player_demographics = df.loc[:, ['Gender', 'SN', 'Age']]\n",
    "total_players = player_demographics.drop_duplicates()\n",
    "num_player = total_players[\"Gender\"].value_counts()\n",
    "num_player"
   ]
  },
  {
   "cell_type": "code",
   "execution_count": 290,
   "metadata": {},
   "outputs": [
    {
     "data": {
      "text/plain": [
       "Male                     81.151832\n",
       "Female                   17.452007\n",
       "Other / Non-Disclosed     1.396161\n",
       "Name: Gender, dtype: float64"
      ]
     },
     "execution_count": 290,
     "metadata": {},
     "output_type": "execute_result"
    }
   ],
   "source": [
    "#player_percents\n",
    "percents = num_player/player_count*100 \n",
    "percents"
   ]
  },
  {
   "cell_type": "code",
   "execution_count": 291,
   "metadata": {},
   "outputs": [
    {
     "data": {
      "text/html": [
       "<div>\n",
       "<style scoped>\n",
       "    .dataframe tbody tr th:only-of-type {\n",
       "        vertical-align: middle;\n",
       "    }\n",
       "\n",
       "    .dataframe tbody tr th {\n",
       "        vertical-align: top;\n",
       "    }\n",
       "\n",
       "    .dataframe thead th {\n",
       "        text-align: right;\n",
       "    }\n",
       "</style>\n",
       "<table border=\"1\" class=\"dataframe\">\n",
       "  <thead>\n",
       "    <tr style=\"text-align: right;\">\n",
       "      <th></th>\n",
       "      <th>Count</th>\n",
       "      <th>Percentage of Total</th>\n",
       "    </tr>\n",
       "  </thead>\n",
       "  <tbody>\n",
       "    <tr>\n",
       "      <th>Male</th>\n",
       "      <td>465</td>\n",
       "      <td>81.151832</td>\n",
       "    </tr>\n",
       "    <tr>\n",
       "      <th>Female</th>\n",
       "      <td>100</td>\n",
       "      <td>17.452007</td>\n",
       "    </tr>\n",
       "    <tr>\n",
       "      <th>Other / Non-Disclosed</th>\n",
       "      <td>8</td>\n",
       "      <td>1.396161</td>\n",
       "    </tr>\n",
       "  </tbody>\n",
       "</table>\n",
       "</div>"
      ],
      "text/plain": [
       "                       Count  Percentage of Total\n",
       "Male                     465            81.151832\n",
       "Female                   100            17.452007\n",
       "Other / Non-Disclosed      8             1.396161"
      ]
     },
     "execution_count": 291,
     "metadata": {},
     "output_type": "execute_result"
    }
   ],
   "source": [
    "#Gender Demographics\n",
    "gender_demo_df = pd.DataFrame({\n",
    "    \"Percentage of Total\": percents,\n",
    "    \"Count\": num_player\n",
    "})\n",
    "gender_demo_df.index = ([\"Male\", \"Female\", \"Other / Non-Disclosed\"])\n",
    "gender_demo_df"
   ]
  },
  {
   "cell_type": "markdown",
   "metadata": {},
   "source": [
    "**Purchasing Analysis (Gender)** \n",
    "\n",
    "* The below each broken by gender\n",
    "  * Purchase Count\n",
    "  * Average Purchase Price\n",
    "  * Total Purchase Value\n",
    "  * Normalized Totals\n"
   ]
  },
  {
   "cell_type": "code",
   "execution_count": 292,
   "metadata": {},
   "outputs": [
    {
     "data": {
      "text/plain": [
       "Male                     633\n",
       "Female                   136\n",
       "Other / Non-Disclosed     11\n",
       "Name: Gender, dtype: int64"
      ]
     },
     "execution_count": 292,
     "metadata": {},
     "output_type": "execute_result"
    }
   ],
   "source": [
    "gender_analysis = df[[\"SN\", \"Gender\",\"Price\"]]\n",
    "counts_gender = gender_analysis[\"Gender\"].value_counts()\n",
    "counts_gender"
   ]
  },
  {
   "cell_type": "code",
   "execution_count": 293,
   "metadata": {},
   "outputs": [
    {
     "data": {
      "text/html": [
       "<div>\n",
       "<style scoped>\n",
       "    .dataframe tbody tr th:only-of-type {\n",
       "        vertical-align: middle;\n",
       "    }\n",
       "\n",
       "    .dataframe tbody tr th {\n",
       "        vertical-align: top;\n",
       "    }\n",
       "\n",
       "    .dataframe thead th {\n",
       "        text-align: right;\n",
       "    }\n",
       "</style>\n",
       "<table border=\"1\" class=\"dataframe\">\n",
       "  <thead>\n",
       "    <tr style=\"text-align: right;\">\n",
       "      <th></th>\n",
       "      <th>Price</th>\n",
       "    </tr>\n",
       "    <tr>\n",
       "      <th>Gender</th>\n",
       "      <th></th>\n",
       "    </tr>\n",
       "  </thead>\n",
       "  <tbody>\n",
       "    <tr>\n",
       "      <th>Female</th>\n",
       "      <td>382.91</td>\n",
       "    </tr>\n",
       "    <tr>\n",
       "      <th>Male</th>\n",
       "      <td>1867.68</td>\n",
       "    </tr>\n",
       "    <tr>\n",
       "      <th>Other / Non-Disclosed</th>\n",
       "      <td>35.74</td>\n",
       "    </tr>\n",
       "  </tbody>\n",
       "</table>\n",
       "</div>"
      ],
      "text/plain": [
       "                         Price\n",
       "Gender                        \n",
       "Female                  382.91\n",
       "Male                   1867.68\n",
       "Other / Non-Disclosed    35.74"
      ]
     },
     "execution_count": 293,
     "metadata": {},
     "output_type": "execute_result"
    }
   ],
   "source": [
    "purchases_gender = [counts_gender[0],counts_gender[1],counts_gender[2]]\n",
    "\n",
    "gender_analysis = gender_analysis.groupby(\"Gender\")\n",
    "total_spent = gender_analysis.sum()\n",
    "total_spent"
   ]
  },
  {
   "cell_type": "code",
   "execution_count": 294,
   "metadata": {},
   "outputs": [
    {
     "data": {
      "text/plain": [
       "[2.9505213270142154, 2.815514705882352, 3.2490909090909086]"
      ]
     },
     "execution_count": 294,
     "metadata": {},
     "output_type": "execute_result"
    }
   ],
   "source": [
    "total_purchase_gender = [total_spent.iloc[1,0], total_spent.iloc[0,0], total_spent.iloc[2,0]]\n",
    "avg_purchase_gender = [total_spent.iloc[1,0]/revenue, total_spent.iloc[0,0]/revenue, total_spent.iloc[2,0]/revenue]\n",
    "norm_purchase_gender = [total_spent.iloc[1,0]/counts_gender[0], total_spent.iloc[0,0]/counts_gender[1], total_spent.iloc[2,0]/counts_gender[2]]\n",
    "norm_purchase_gender"
   ]
  },
  {
   "cell_type": "code",
   "execution_count": 295,
   "metadata": {},
   "outputs": [
    {
     "data": {
      "text/html": [
       "<div>\n",
       "<style scoped>\n",
       "    .dataframe tbody tr th:only-of-type {\n",
       "        vertical-align: middle;\n",
       "    }\n",
       "\n",
       "    .dataframe tbody tr th {\n",
       "        vertical-align: top;\n",
       "    }\n",
       "\n",
       "    .dataframe thead th {\n",
       "        text-align: right;\n",
       "    }\n",
       "</style>\n",
       "<table border=\"1\" class=\"dataframe\">\n",
       "  <thead>\n",
       "    <tr style=\"text-align: right;\">\n",
       "      <th></th>\n",
       "      <th>Purchase Count</th>\n",
       "      <th>Average Purchase Price</th>\n",
       "      <th>Total Purchase Value</th>\n",
       "      <th>Normalized Purchase Value</th>\n",
       "    </tr>\n",
       "    <tr>\n",
       "      <th>Gender</th>\n",
       "      <th></th>\n",
       "      <th></th>\n",
       "      <th></th>\n",
       "      <th></th>\n",
       "    </tr>\n",
       "  </thead>\n",
       "  <tbody>\n",
       "    <tr>\n",
       "      <th>Male</th>\n",
       "      <td>633</td>\n",
       "      <td>0.816890</td>\n",
       "      <td>1867.68</td>\n",
       "      <td>2.950521</td>\n",
       "    </tr>\n",
       "    <tr>\n",
       "      <th>Female</th>\n",
       "      <td>136</td>\n",
       "      <td>0.167478</td>\n",
       "      <td>382.91</td>\n",
       "      <td>2.815515</td>\n",
       "    </tr>\n",
       "    <tr>\n",
       "      <th>Other / Non-Disclosed</th>\n",
       "      <td>11</td>\n",
       "      <td>0.015632</td>\n",
       "      <td>35.74</td>\n",
       "      <td>3.249091</td>\n",
       "    </tr>\n",
       "  </tbody>\n",
       "</table>\n",
       "</div>"
      ],
      "text/plain": [
       "                       Purchase Count  Average Purchase Price  \\\n",
       "Gender                                                          \n",
       "Male                              633                0.816890   \n",
       "Female                            136                0.167478   \n",
       "Other / Non-Disclosed              11                0.015632   \n",
       "\n",
       "                       Total Purchase Value  Normalized Purchase Value  \n",
       "Gender                                                                  \n",
       "Male                                1867.68                   2.950521  \n",
       "Female                               382.91                   2.815515  \n",
       "Other / Non-Disclosed                 35.74                   3.249091  "
      ]
     },
     "execution_count": 295,
     "metadata": {},
     "output_type": "execute_result"
    }
   ],
   "source": [
    "#Gender Demographics Table\n",
    "purchase_analysis_genders_df = pd.DataFrame({\n",
    "    \"Purchase Count\": counts_gender,\n",
    "    \"Average Purchase Price\": avg_purchase_gender,\n",
    "    \"Total Purchase Value\": total_purchase_gender,\n",
    "    \"Normalized Purchase Value\": norm_purchase_gender, \n",
    "    \"Gender\": [\"Male\", \"Female\", \"Other / Non-Disclosed\"]\n",
    "})\n",
    "purchase_analysis_genders_df = purchase_analysis_genders_df.set_index(\"Gender\")\n",
    "purchase_analysis_genders_df = purchase_analysis_genders_df[[\"Purchase Count\", \"Average Purchase Price\", \"Total Purchase Value\", \"Normalized Purchase Value\"]]\n",
    "\n",
    "purchase_analysis_genders_df"
   ]
  },
  {
   "cell_type": "markdown",
   "metadata": {},
   "source": [
    "**Age Demographics**\n",
    "\n",
    "* The below each broken into bins of 4 years (i.e. &lt;10, 10-14, 15-19, etc.) \n",
    "  * Purchase Count\n",
    "  * Average Purchase Price\n",
    "  * Total Purchase Value\n",
    "  * Normalized Totals"
   ]
  },
  {
   "cell_type": "code",
   "execution_count": 296,
   "metadata": {},
   "outputs": [],
   "source": [
    "df2 = df[[\"SN\",\"Age\"]]\n",
    "df2 = df2.drop_duplicates()\n",
    "\n",
    "# Age count\n",
    "age_10 = df2[df2[\"Age\"] < 10].count()[0]\n",
    "age_14 = df2[(df2[\"Age\"] >= 10) & (df2[\"Age\"] <= 14)].count()[0]\n",
    "age_19 = df2[(df2[\"Age\"] >= 15) & (df2[\"Age\"] <= 19)].count()[0]\n",
    "age_24 = df2[(df2[\"Age\"] >= 20) & (df2[\"Age\"] <= 24)].count()[0]\n",
    "age_29 = df2[(df2[\"Age\"] >= 25) & (df2[\"Age\"] <= 29)].count()[0]\n",
    "age_34 = df2[(df2[\"Age\"] >= 30) & (df2[\"Age\"] <= 34)].count()[0]\n",
    "age_39 = df2[(df2[\"Age\"] >= 35) & (df2[\"Age\"] <= 39)].count()[0]\n",
    "age_40 = df2[df2[\"Age\"] >= 40].count()[0]\n",
    "ages = [age_10, age_14, age_19, age_24, age_29, age_34, age_39, age_40]\n"
   ]
  },
  {
   "cell_type": "code",
   "execution_count": 297,
   "metadata": {},
   "outputs": [],
   "source": [
    "# Percents\n",
    "percent_10 = round((age_10/player_count)*100,2)\n",
    "percent_14 = round((age_14/player_count)*100,2)\n",
    "percent_19 = round((age_19/player_count)*100,2)\n",
    "percent_24 = round((age_24/player_count)*100,2)\n",
    "percent_29 = round((age_29/player_count)*100,2)\n",
    "percent_34 = round((age_34/player_count)*100,2)\n",
    "percent_39 = round((age_39/player_count)*100,2)\n",
    "percent_40 = round((age_40/player_count)*100,2)\n",
    "percents_ages = [percent_10, percent_14, percent_19, percent_24, percent_29, percent_34, percent_39, percent_40]"
   ]
  },
  {
   "cell_type": "code",
   "execution_count": 298,
   "metadata": {},
   "outputs": [
    {
     "data": {
      "text/plain": [
       "[28, 35, 133, 336, 125, 64, 42, 17]"
      ]
     },
     "execution_count": 298,
     "metadata": {},
     "output_type": "execute_result"
    }
   ],
   "source": [
    "purchase_10 = df[df[\"Age\"] < 10].count()[0]\n",
    "purchase_14 = df[(df[\"Age\"] >= 10) & (df[\"Age\"] <= 14)].count()[0]\n",
    "purchase_19 = df[(df[\"Age\"] >= 15) & (df[\"Age\"] <= 19)].count()[0]\n",
    "purchase_24 = df[(df[\"Age\"] >= 20) & (df[\"Age\"] <= 24)].count()[0]\n",
    "purchase_29 = df[(df[\"Age\"] >= 25) & (df[\"Age\"] <= 29)].count()[0]\n",
    "purchase_34 = df[(df[\"Age\"] >= 30) & (df[\"Age\"] <= 34)].count()[0]\n",
    "purchase_39 = df[(df[\"Age\"] >= 35) & (df[\"Age\"] <= 39)].count()[0]\n",
    "purchase_40 = df[df[\"Age\"] >= 40].count()[0]\n",
    "purchases_age = [purchase_10, purchase_14, purchase_19, purchase_24, purchase_29, purchase_34, purchase_39, purchase_40]\n",
    "purchases_ages"
   ]
  },
  {
   "cell_type": "code",
   "execution_count": 299,
   "metadata": {},
   "outputs": [],
   "source": [
    "total_10 = df.loc[df['Age'] < 10, 'Price'].sum()\n",
    "total_14 = df.loc[(df['Age'] >= 10) & (df['Age'] <=14), 'Price'].sum()\n",
    "total_19 = df.loc[(df['Age'] >= 15) & (df['Age'] <=19), 'Price'].sum()\n",
    "total_24 = df.loc[(df['Age'] >= 20) & (df['Age'] <=24), 'Price'].sum()\n",
    "total_29 = df.loc[(df['Age'] >= 25) & (df['Age'] <=29), 'Price'].sum()\n",
    "total_34 = df.loc[(df['Age'] >= 30) & (df['Age'] <=34), 'Price'].sum()\n",
    "total_39 = df.loc[(df['Age'] >= 35) & (df['Age'] <=39), 'Price'].sum()\n",
    "total_40 = df.loc[df['Age'] >= 40, 'Price'].sum()\n",
    "totals_purchases_ages = [total_10, total_14, total_19, total_24, total_29, total_34, total_39, total_40]\n"
   ]
  },
  {
   "cell_type": "code",
   "execution_count": 300,
   "metadata": {},
   "outputs": [],
   "source": [
    "# Average Purchase Price\n",
    "avg_price_ages = [total_10/purchase_10, total_14/purchase_14, total_19/purchase_19, total_24/purchase_24, total_29/purchase_29,\n",
    "              total_34/purchase_34, total_39/purchase_39, total_40/purchase_40]\n",
    "\n",
    "# Normalized Totals\n",
    "norm_purchase_ages = [total_10/age_10, total_14/age_14, total_19/age_19, total_24/age_24, total_29/age_29, total_34/age_34,\n",
    "           total_39/age_39, total_40/age_40]\n"
   ]
  },
  {
   "cell_type": "code",
   "execution_count": 301,
   "metadata": {},
   "outputs": [
    {
     "data": {
      "text/html": [
       "<div>\n",
       "<style scoped>\n",
       "    .dataframe tbody tr th:only-of-type {\n",
       "        vertical-align: middle;\n",
       "    }\n",
       "\n",
       "    .dataframe tbody tr th {\n",
       "        vertical-align: top;\n",
       "    }\n",
       "\n",
       "    .dataframe thead th {\n",
       "        text-align: right;\n",
       "    }\n",
       "</style>\n",
       "<table border=\"1\" class=\"dataframe\">\n",
       "  <thead>\n",
       "    <tr style=\"text-align: right;\">\n",
       "      <th></th>\n",
       "      <th>Average Purchase Price</th>\n",
       "      <th>Normalized Totals</th>\n",
       "      <th>Percent of Players</th>\n",
       "      <th>Purchase Count</th>\n",
       "      <th>Total Count</th>\n",
       "      <th>Total Purchase Value</th>\n",
       "    </tr>\n",
       "  </thead>\n",
       "  <tbody>\n",
       "    <tr>\n",
       "      <th>Less than 10</th>\n",
       "      <td>2.980714</td>\n",
       "      <td>4.392632</td>\n",
       "      <td>3.32</td>\n",
       "      <td>28</td>\n",
       "      <td>19</td>\n",
       "      <td>83.46</td>\n",
       "    </tr>\n",
       "    <tr>\n",
       "      <th>10-14</th>\n",
       "      <td>2.770000</td>\n",
       "      <td>4.215217</td>\n",
       "      <td>4.01</td>\n",
       "      <td>35</td>\n",
       "      <td>23</td>\n",
       "      <td>96.95</td>\n",
       "    </tr>\n",
       "    <tr>\n",
       "      <th>15-19</th>\n",
       "      <td>2.905414</td>\n",
       "      <td>3.864200</td>\n",
       "      <td>17.45</td>\n",
       "      <td>133</td>\n",
       "      <td>100</td>\n",
       "      <td>386.42</td>\n",
       "    </tr>\n",
       "    <tr>\n",
       "      <th>20-24</th>\n",
       "      <td>2.913006</td>\n",
       "      <td>3.779035</td>\n",
       "      <td>45.20</td>\n",
       "      <td>336</td>\n",
       "      <td>259</td>\n",
       "      <td>978.77</td>\n",
       "    </tr>\n",
       "    <tr>\n",
       "      <th>25-29</th>\n",
       "      <td>2.962640</td>\n",
       "      <td>4.256667</td>\n",
       "      <td>15.18</td>\n",
       "      <td>125</td>\n",
       "      <td>87</td>\n",
       "      <td>370.33</td>\n",
       "    </tr>\n",
       "    <tr>\n",
       "      <th>30-34</th>\n",
       "      <td>3.082031</td>\n",
       "      <td>4.196809</td>\n",
       "      <td>8.20</td>\n",
       "      <td>64</td>\n",
       "      <td>47</td>\n",
       "      <td>197.25</td>\n",
       "    </tr>\n",
       "    <tr>\n",
       "      <th>35-39</th>\n",
       "      <td>2.842857</td>\n",
       "      <td>4.422222</td>\n",
       "      <td>4.71</td>\n",
       "      <td>42</td>\n",
       "      <td>27</td>\n",
       "      <td>119.40</td>\n",
       "    </tr>\n",
       "    <tr>\n",
       "      <th>40+</th>\n",
       "      <td>3.161765</td>\n",
       "      <td>4.886364</td>\n",
       "      <td>1.92</td>\n",
       "      <td>17</td>\n",
       "      <td>11</td>\n",
       "      <td>53.75</td>\n",
       "    </tr>\n",
       "  </tbody>\n",
       "</table>\n",
       "</div>"
      ],
      "text/plain": [
       "              Average Purchase Price  Normalized Totals  Percent of Players  \\\n",
       "Less than 10                2.980714           4.392632                3.32   \n",
       "10-14                       2.770000           4.215217                4.01   \n",
       "15-19                       2.905414           3.864200               17.45   \n",
       "20-24                       2.913006           3.779035               45.20   \n",
       "25-29                       2.962640           4.256667               15.18   \n",
       "30-34                       3.082031           4.196809                8.20   \n",
       "35-39                       2.842857           4.422222                4.71   \n",
       "40+                         3.161765           4.886364                1.92   \n",
       "\n",
       "              Purchase Count  Total Count  Total Purchase Value  \n",
       "Less than 10              28           19                 83.46  \n",
       "10-14                     35           23                 96.95  \n",
       "15-19                    133          100                386.42  \n",
       "20-24                    336          259                978.77  \n",
       "25-29                    125           87                370.33  \n",
       "30-34                     64           47                197.25  \n",
       "35-39                     42           27                119.40  \n",
       "40+                       17           11                 53.75  "
      ]
     },
     "execution_count": 301,
     "metadata": {},
     "output_type": "execute_result"
    }
   ],
   "source": [
    "#Age Analysis\n",
    "age_demographics= {\n",
    "        \"Percent of Players\": percents_ages,\n",
    "        \"Total Count\": ages,\n",
    "        \"Purchase Count\": purchases_ages,\n",
    "        \"Average Purchase Price\": avg_price_ages,\n",
    "        \"Total Purchase Value\": totals_purchases_ages,\n",
    "        \"Normalized Totals\": norm_purchase_ages}\n",
    "    \n",
    "# Creating DataFrame & setting index\n",
    "age_demographics_df = pd.DataFrame(age_demographics)\n",
    "age_demographics_df.index = ([\"Less than 10\", \"10-14\", \"15-19\", \"20-24\", \"25-29\", \"30-34\", \"35-39\", \"40+\"])\n",
    "age_demographics_df"
   ]
  },
  {
   "cell_type": "markdown",
   "metadata": {},
   "source": [
    "**Top Spenders**\n",
    "\n",
    "* Identify the the top 5 spenders in the game by total purchase value, then list (in a table):\n",
    "  * SN\n",
    "  * Purchase Count\n",
    "  * Average Purchase Price\n",
    "  * Total Purchase Value\n"
   ]
  },
  {
   "cell_type": "code",
   "execution_count": 302,
   "metadata": {},
   "outputs": [],
   "source": [
    "df3 = df[[\"SN\",\"Price\",\"Item Name\"]]\n",
    "total_spent = df3.groupby(\"SN\").sum()\n",
    "total_spent.sort_values(by = \"Price\", ascending = False, inplace = True)"
   ]
  },
  {
   "cell_type": "code",
   "execution_count": 303,
   "metadata": {},
   "outputs": [
    {
     "data": {
      "text/plain": [
       "['Undirrala66', 'Saedue76', 'Mindimnya67', 'Haellysu29', 'Eoda93']"
      ]
     },
     "execution_count": 303,
     "metadata": {},
     "output_type": "execute_result"
    }
   ],
   "source": [
    "# Top Spender SN\n",
    "names = list(total_spent.index.values)\n",
    "top_spenders = [names[0],names[1],names[2],names[3],names[4]]\n",
    "top_spenders"
   ]
  },
  {
   "cell_type": "code",
   "execution_count": 304,
   "metadata": {},
   "outputs": [
    {
     "data": {
      "text/plain": [
       "[5, 4, 4, 3, 3]"
      ]
     },
     "execution_count": 304,
     "metadata": {},
     "output_type": "execute_result"
    }
   ],
   "source": [
    "#Purchase Counts\n",
    "top_purchase_counts_1 = df3[df3[\"SN\"] == names[0]].count()[0]\n",
    "top_purchase_counts_2 = df3[df3[\"SN\"] == names[1]].count()[0]\n",
    "top_purchase_counts_3 = df3[df3[\"SN\"] == names[2]].count()[0]\n",
    "top_purchase_counts_4 = df3[df3[\"SN\"] == names[3]].count()[0]\n",
    "top_purchase_counts_5 = df3[df3[\"SN\"] == names[4]].count()[0]\n",
    "top_purchase_counts = [top_purchase_counts_1, top_purchase_counts_2, top_purchase_counts_3, top_purchase_counts_4,\n",
    "                       top_purchase_counts_5]\n",
    "top_purchase_counts"
   ]
  },
  {
   "cell_type": "code",
   "execution_count": 305,
   "metadata": {},
   "outputs": [
    {
     "data": {
      "text/plain": [
       "[3.412, 3.39, 3.1849999999999996, 4.243333333333333, 3.86]"
      ]
     },
     "execution_count": 305,
     "metadata": {},
     "output_type": "execute_result"
    }
   ],
   "source": [
    "#Average Purchase Price\n",
    "avg_price_1 = total_purchase_values_1/top_purchase_counts_1\n",
    "avg_price_2 = total_purchase_values_2/top_purchase_counts_2\n",
    "avg_price_3 = total_purchase_values_3/top_purchase_counts_3\n",
    "avg_price_4 = total_purchase_values_4/top_purchase_counts_4\n",
    "avg_price_5 = total_purchase_values_5/top_purchase_counts_5\n",
    "avg_prices = [avg_price_1, avg_price_2, avg_price_3, avg_price_4, avg_price_5]\n",
    "avg_prices\n"
   ]
  },
  {
   "cell_type": "code",
   "execution_count": 306,
   "metadata": {},
   "outputs": [
    {
     "data": {
      "text/plain": [
       "[17.06, 13.56, 12.739999999999998, 12.73, 11.58]"
      ]
     },
     "execution_count": 306,
     "metadata": {},
     "output_type": "execute_result"
    }
   ],
   "source": [
    "#Total Purchase Value\n",
    "total_purchase_values_1 = total_spent.iloc[0,0]\n",
    "total_purchase_values_2 = total_spent.iloc[1,0]\n",
    "total_purchase_values_3 = total_spent.iloc[2,0]\n",
    "total_purchase_values_4 = total_spent.iloc[3,0]\n",
    "total_purchase_values_5 = total_spent.iloc[4,0]\n",
    "top_purchase_values = [total_spent.iloc[0,0], total_spent.iloc[1,0], total_spent.iloc[2,0], total_spent.iloc[3,0],\n",
    "                      total_spent.iloc[4,0]]\n",
    "top_purchase_values"
   ]
  },
  {
   "cell_type": "code",
   "execution_count": 307,
   "metadata": {},
   "outputs": [
    {
     "data": {
      "text/html": [
       "<div>\n",
       "<style scoped>\n",
       "    .dataframe tbody tr th:only-of-type {\n",
       "        vertical-align: middle;\n",
       "    }\n",
       "\n",
       "    .dataframe tbody tr th {\n",
       "        vertical-align: top;\n",
       "    }\n",
       "\n",
       "    .dataframe thead th {\n",
       "        text-align: right;\n",
       "    }\n",
       "</style>\n",
       "<table border=\"1\" class=\"dataframe\">\n",
       "  <thead>\n",
       "    <tr style=\"text-align: right;\">\n",
       "      <th></th>\n",
       "      <th>Purchase Count</th>\n",
       "      <th>Average Purchase Price</th>\n",
       "      <th>Total Purchase Value</th>\n",
       "    </tr>\n",
       "    <tr>\n",
       "      <th>SN</th>\n",
       "      <th></th>\n",
       "      <th></th>\n",
       "      <th></th>\n",
       "    </tr>\n",
       "  </thead>\n",
       "  <tbody>\n",
       "    <tr>\n",
       "      <th>Undirrala66</th>\n",
       "      <td>5</td>\n",
       "      <td>3.412000</td>\n",
       "      <td>17.06</td>\n",
       "    </tr>\n",
       "    <tr>\n",
       "      <th>Saedue76</th>\n",
       "      <td>4</td>\n",
       "      <td>3.390000</td>\n",
       "      <td>13.56</td>\n",
       "    </tr>\n",
       "    <tr>\n",
       "      <th>Mindimnya67</th>\n",
       "      <td>4</td>\n",
       "      <td>3.185000</td>\n",
       "      <td>12.74</td>\n",
       "    </tr>\n",
       "    <tr>\n",
       "      <th>Haellysu29</th>\n",
       "      <td>3</td>\n",
       "      <td>4.243333</td>\n",
       "      <td>12.73</td>\n",
       "    </tr>\n",
       "    <tr>\n",
       "      <th>Eoda93</th>\n",
       "      <td>3</td>\n",
       "      <td>3.860000</td>\n",
       "      <td>11.58</td>\n",
       "    </tr>\n",
       "  </tbody>\n",
       "</table>\n",
       "</div>"
      ],
      "text/plain": [
       "             Purchase Count  Average Purchase Price  Total Purchase Value\n",
       "SN                                                                       \n",
       "Undirrala66               5                3.412000                 17.06\n",
       "Saedue76                  4                3.390000                 13.56\n",
       "Mindimnya67               4                3.185000                 12.74\n",
       "Haellysu29                3                4.243333                 12.73\n",
       "Eoda93                    3                3.860000                 11.58"
      ]
     },
     "execution_count": 307,
     "metadata": {},
     "output_type": "execute_result"
    }
   ],
   "source": [
    "#Top Spenders Analysis\n",
    "top_spenders_analysis = {\n",
    "    \"Purchase Count\": top_purchase_counts,\n",
    "    \"Average Purchase Price\": avg_prices,\n",
    "    \"Total Purchase Value\": top_purchase_values,\n",
    "    \"SN\": top_spenders\n",
    "}\n",
    "\n",
    "\n",
    "\n",
    "top_spenders_df = pd.DataFrame(top_spenders_analysis)\n",
    "top_spenders_df = top_spenders_df.set_index(\"SN\")\n",
    "top_spenders_df = top_spenders_df[[\"Purchase Count\", \"Average Purchase Price\", \"Total Purchase Value\"]]\n",
    "\n",
    "top_spenders_df"
   ]
  },
  {
   "cell_type": "markdown",
   "metadata": {},
   "source": [
    "**Most Popular Items**\n",
    "\n",
    "* Identify the 5 most popular items by purchase count, then list (in a table):\n",
    "  * Item ID\n",
    "  * Item Name\n",
    "  * Purchase Count\n",
    "  * Item Price\n",
    "  * Total Purchase Value"
   ]
  },
  {
   "cell_type": "code",
   "execution_count": 308,
   "metadata": {},
   "outputs": [
    {
     "data": {
      "text/html": [
       "<div>\n",
       "<style scoped>\n",
       "    .dataframe tbody tr th:only-of-type {\n",
       "        vertical-align: middle;\n",
       "    }\n",
       "\n",
       "    .dataframe tbody tr th {\n",
       "        vertical-align: top;\n",
       "    }\n",
       "\n",
       "    .dataframe thead th {\n",
       "        text-align: right;\n",
       "    }\n",
       "</style>\n",
       "<table border=\"1\" class=\"dataframe\">\n",
       "  <thead>\n",
       "    <tr style=\"text-align: right;\">\n",
       "      <th></th>\n",
       "      <th>Item ID</th>\n",
       "      <th>Item Name</th>\n",
       "      <th>Price</th>\n",
       "    </tr>\n",
       "  </thead>\n",
       "  <tbody>\n",
       "    <tr>\n",
       "      <th>0</th>\n",
       "      <td>165</td>\n",
       "      <td>Bone Crushing Silver Skewer</td>\n",
       "      <td>3.37</td>\n",
       "    </tr>\n",
       "    <tr>\n",
       "      <th>1</th>\n",
       "      <td>119</td>\n",
       "      <td>Stormbringer, Dark Blade of Ending Misery</td>\n",
       "      <td>2.32</td>\n",
       "    </tr>\n",
       "    <tr>\n",
       "      <th>2</th>\n",
       "      <td>174</td>\n",
       "      <td>Primitive Blade</td>\n",
       "      <td>2.46</td>\n",
       "    </tr>\n",
       "    <tr>\n",
       "      <th>3</th>\n",
       "      <td>92</td>\n",
       "      <td>Final Critic</td>\n",
       "      <td>1.36</td>\n",
       "    </tr>\n",
       "    <tr>\n",
       "      <th>4</th>\n",
       "      <td>63</td>\n",
       "      <td>Stormfury Mace</td>\n",
       "      <td>1.27</td>\n",
       "    </tr>\n",
       "  </tbody>\n",
       "</table>\n",
       "</div>"
      ],
      "text/plain": [
       "   Item ID                                  Item Name  Price\n",
       "0      165                Bone Crushing Silver Skewer   3.37\n",
       "1      119  Stormbringer, Dark Blade of Ending Misery   2.32\n",
       "2      174                            Primitive Blade   2.46\n",
       "3       92                               Final Critic   1.36\n",
       "4       63                             Stormfury Mace   1.27"
      ]
     },
     "execution_count": 308,
     "metadata": {},
     "output_type": "execute_result"
    }
   ],
   "source": [
    "#Popular Items\n",
    "df4  = df[[\"Item ID\" , \"Item Name\", \"Price\"]]\n",
    "popular_items = df4.groupby(\"Item ID\").count()\n",
    "popular_items.sort_values(by = \"Item Name\", ascending = False, inplace = True)\n",
    "df4 = df4.drop_duplicates([\"Item ID\", \"Item Name\"])\n",
    "df4.head()"
   ]
  },
  {
   "cell_type": "code",
   "execution_count": 309,
   "metadata": {},
   "outputs": [
    {
     "data": {
      "text/plain": [
       "[39, 84, 31, 175, 13]"
      ]
     },
     "execution_count": 309,
     "metadata": {},
     "output_type": "execute_result"
    }
   ],
   "source": [
    "#Popular Item IDs\n",
    "popular_item_ids = [popular_items.index[0], popular_items.index[1], popular_items.index[2], popular_items.index[3], popular_items.index[4]]\n",
    "popular_item_ids"
   ]
  },
  {
   "cell_type": "code",
   "execution_count": 310,
   "metadata": {},
   "outputs": [
    {
     "data": {
      "text/plain": [
       "[11, 11, 9, 9, 9]"
      ]
     },
     "execution_count": 310,
     "metadata": {},
     "output_type": "execute_result"
    }
   ],
   "source": [
    "item_counts = [popular_items.iloc[0,0], popular_items.iloc[1,0], popular_items.iloc[2,0], popular_items.iloc[3,0], popular_items.iloc[4,0]]\n",
    "item_counts\n",
    "\n"
   ]
  },
  {
   "cell_type": "code",
   "execution_count": 311,
   "metadata": {},
   "outputs": [
    {
     "data": {
      "text/plain": [
       "['Betrayal, Whisper of Grieving Widows',\n",
       " 'Arcane Gem',\n",
       " 'Trickster',\n",
       " 'Woeful Adamantite Claymore',\n",
       " 'Serenity']"
      ]
     },
     "execution_count": 311,
     "metadata": {},
     "output_type": "execute_result"
    }
   ],
   "source": [
    "#Popular Item Names\n",
    "name_1 = df4.loc[df4[\"Item ID\"] == popular_item_ids[0], \"Item Name\"].item()\n",
    "name_2 = df4.loc[df4[\"Item ID\"] == popular_item_ids[1], \"Item Name\"].item()\n",
    "name_3 = df4.loc[df4[\"Item ID\"] == popular_item_ids[2], \"Item Name\"].item()\n",
    "name_4 = df4.loc[df4[\"Item ID\"] == popular_item_ids[3], \"Item Name\"].item()\n",
    "name_5 = df4.loc[df4[\"Item ID\"] == popular_item_ids[4], \"Item Name\"].item()\n",
    "pop_item_names = [name_1, name_2, name_3, name_4, name_5]\n",
    "pop_item_names"
   ]
  },
  {
   "cell_type": "code",
   "execution_count": 312,
   "metadata": {},
   "outputs": [
    {
     "data": {
      "text/plain": [
       "[2.35, 2.23, 2.07, 1.24, 1.49]"
      ]
     },
     "execution_count": 312,
     "metadata": {},
     "output_type": "execute_result"
    }
   ],
   "source": [
    "# Item Prices\n",
    "price_1 = df4.loc[df4[\"Item Name\"] == pop_item_names[0], \"Price\"].item()\n",
    "price_2 = df4.loc[df4[\"Item Name\"] == pop_item_names[1], \"Price\"].item()\n",
    "price_3 = df4.loc[df4[\"Item Name\"] == pop_item_names[2], \"Price\"].item()\n",
    "price_4 = df4.loc[df4[\"Item Name\"] == pop_item_names[3], \"Price\"].item()\n",
    "price_5 = df4.loc[df4[\"Item Name\"] == pop_item_names[4], \"Price\"].item()\n",
    "item_prices = [price_1,price_2,price_3,price_4,price_5]\n",
    "item_prices"
   ]
  },
  {
   "cell_type": "code",
   "execution_count": 313,
   "metadata": {},
   "outputs": [
    {
     "data": {
      "text/plain": [
       "[25.85, 24.53, 18.63, 11.16, 13.41]"
      ]
     },
     "execution_count": 313,
     "metadata": {},
     "output_type": "execute_result"
    }
   ],
   "source": [
    "total_values = [popular_items.iloc[0,0]*price_1, popular_items.iloc[1,0]*price_2, popular_items.iloc[2,0]*price_3, \n",
    "                popular_items.iloc[3,0]*price_4, popular_items.iloc[4,0]*price_5]\n",
    "total_values"
   ]
  },
  {
   "cell_type": "code",
   "execution_count": 314,
   "metadata": {},
   "outputs": [
    {
     "data": {
      "text/html": [
       "<div>\n",
       "<style scoped>\n",
       "    .dataframe tbody tr th:only-of-type {\n",
       "        vertical-align: middle;\n",
       "    }\n",
       "\n",
       "    .dataframe tbody tr th {\n",
       "        vertical-align: top;\n",
       "    }\n",
       "\n",
       "    .dataframe thead th {\n",
       "        text-align: right;\n",
       "    }\n",
       "</style>\n",
       "<table border=\"1\" class=\"dataframe\">\n",
       "  <thead>\n",
       "    <tr style=\"text-align: right;\">\n",
       "      <th></th>\n",
       "      <th></th>\n",
       "      <th>Purchase Count</th>\n",
       "      <th>Item Price</th>\n",
       "      <th>Total Purchase Value</th>\n",
       "    </tr>\n",
       "    <tr>\n",
       "      <th>Item ID</th>\n",
       "      <th>Item Name</th>\n",
       "      <th></th>\n",
       "      <th></th>\n",
       "      <th></th>\n",
       "    </tr>\n",
       "  </thead>\n",
       "  <tbody>\n",
       "    <tr>\n",
       "      <th>39</th>\n",
       "      <th>Betrayal, Whisper of Grieving Widows</th>\n",
       "      <td>11</td>\n",
       "      <td>2.35</td>\n",
       "      <td>25.85</td>\n",
       "    </tr>\n",
       "    <tr>\n",
       "      <th>84</th>\n",
       "      <th>Arcane Gem</th>\n",
       "      <td>11</td>\n",
       "      <td>2.23</td>\n",
       "      <td>24.53</td>\n",
       "    </tr>\n",
       "    <tr>\n",
       "      <th>31</th>\n",
       "      <th>Trickster</th>\n",
       "      <td>9</td>\n",
       "      <td>2.07</td>\n",
       "      <td>18.63</td>\n",
       "    </tr>\n",
       "    <tr>\n",
       "      <th>175</th>\n",
       "      <th>Woeful Adamantite Claymore</th>\n",
       "      <td>9</td>\n",
       "      <td>1.24</td>\n",
       "      <td>11.16</td>\n",
       "    </tr>\n",
       "    <tr>\n",
       "      <th>13</th>\n",
       "      <th>Serenity</th>\n",
       "      <td>9</td>\n",
       "      <td>1.49</td>\n",
       "      <td>13.41</td>\n",
       "    </tr>\n",
       "  </tbody>\n",
       "</table>\n",
       "</div>"
      ],
      "text/plain": [
       "                                              Purchase Count  Item Price  \\\n",
       "Item ID Item Name                                                          \n",
       "39      Betrayal, Whisper of Grieving Widows              11        2.35   \n",
       "84      Arcane Gem                                        11        2.23   \n",
       "31      Trickster                                          9        2.07   \n",
       "175     Woeful Adamantite Claymore                         9        1.24   \n",
       "13      Serenity                                           9        1.49   \n",
       "\n",
       "                                              Total Purchase Value  \n",
       "Item ID Item Name                                                   \n",
       "39      Betrayal, Whisper of Grieving Widows                 25.85  \n",
       "84      Arcane Gem                                           24.53  \n",
       "31      Trickster                                            18.63  \n",
       "175     Woeful Adamantite Claymore                           11.16  \n",
       "13      Serenity                                             13.41  "
      ]
     },
     "execution_count": 314,
     "metadata": {},
     "output_type": "execute_result"
    }
   ],
   "source": [
    "pop_items_df = pd.DataFrame({\n",
    "    \"Item ID\": popular_item_ids,\n",
    "    \"Item Name\": pop_item_names,\n",
    "    \"Purchase Count\": item_counts,\n",
    "    \"Item Price\": item_prices,\n",
    "    \"Total Purchase Value\": total_values\n",
    "})\n",
    "pop_items_df = pop_items_df.set_index([\"Item ID\", \"Item Name\"])\n",
    "pop_items_df = pop_items_df[[\"Purchase Count\", \"Item Price\", \"Total Purchase Value\"]]\n",
    "\n",
    "pop_items_df"
   ]
  },
  {
   "cell_type": "markdown",
   "metadata": {},
   "source": [
    "**Most Profitable Items**\n",
    "\n",
    "* Identify the 5 most profitable items by total purchase value, then list (in a table):\n",
    "  * Item ID\n",
    "  * Item Name\n",
    "  * Purchase Count\n",
    "  * Item Price\n",
    "  * Total Purchase Value"
   ]
  },
  {
   "cell_type": "code",
   "execution_count": 315,
   "metadata": {},
   "outputs": [],
   "source": [
    "df4 = df[[\"Item ID\", \"Item Name\", \"Price\"]]\n",
    "profit_items = df4.groupby(\"Item ID\").sum()\n",
    "profit_items.sort_values(by = \"Price\", ascending = False, inplace = True)\n",
    "df4 = df4.drop_duplicates([\"Item ID\", \"Price\"])"
   ]
  },
  {
   "cell_type": "code",
   "execution_count": 316,
   "metadata": {},
   "outputs": [],
   "source": [
    "# Item IDs\n",
    "item_ids = [profit_items.index[0], profit_items.index[1], profit_items.index[2], profit_items.index[3], profit_items.index[4]]"
   ]
  },
  {
   "cell_type": "code",
   "execution_count": 317,
   "metadata": {},
   "outputs": [],
   "source": [
    "profit_name_1 = df4.loc[df4[\"Item ID\"] == item_ids[0], \"Item Name\"].item()\n",
    "profit_name_2 = df4.loc[df4[\"Item ID\"] == item_ids[1], \"Item Name\"].item()\n",
    "profit_name_3 = df4.loc[df4[\"Item ID\"] == item_ids[2], \"Item Name\"].item()\n",
    "profit_name_4 = df4.loc[df4[\"Item ID\"] == item_ids[3], \"Item Name\"].item()\n",
    "profit_name_5 = df4.loc[df4[\"Item ID\"] == item_ids[4], \"Item Name\"].item()\n",
    "profit_names = [profit_name_1, profit_name_2, profit_name_3, profit_name_4, profit_name_5]"
   ]
  },
  {
   "cell_type": "code",
   "execution_count": 318,
   "metadata": {},
   "outputs": [],
   "source": [
    "#Total Purchase Value\n",
    "values = [profit_items.iloc[0,0],profit_items.iloc[1,0],profit_items.iloc[2,0],profit_items.iloc[3,0],profit_items.iloc[4,0]]\n",
    "\n",
    "# Item Price\n",
    "profit_price_1 = df4.loc[df4[\"Item ID\"] == item_ids[0], \"Price\"].item()\n",
    "profit_price_2 = df4.loc[df4[\"Item ID\"] == item_ids[1], \"Price\"].item()\n",
    "profit_price_3 = df4.loc[df4[\"Item ID\"] == item_ids[2], \"Price\"].item()\n",
    "profit_price_4 = df4.loc[df4[\"Item ID\"] == item_ids[3], \"Price\"].item()\n",
    "profit_price_5 = df4.loc[df4[\"Item ID\"] == item_ids[4], \"Price\"].item()\n",
    "profit_prices = [profit_price_1,profit_price_2,profit_price_3,profit_price_4,profit_price_5]\n"
   ]
  },
  {
   "cell_type": "code",
   "execution_count": 320,
   "metadata": {},
   "outputs": [],
   "source": [
    "# Purchase counts\n",
    "df5 = df[[\"Item ID\", \"Item Name\", \"Price\"]].groupby(\"Item Name\").count()\n",
    "count_1 = df5.loc[df5.index == profit_names[0], \"Item ID\"].item()\n",
    "count_2 = df5.loc[df5.index == profit_names[1], \"Item ID\"].item()\n",
    "count_3 = df5.loc[df5.index == profit_names[2], \"Item ID\"].item()\n",
    "count_4 = df5.loc[df5.index == profit_names[3], \"Item ID\"].item()\n",
    "count_5 = df5.loc[df5.index == profit_names[4], \"Item ID\"].item()\n",
    "counts = [count_1, count_2, count_3, count_4, count_5]\n"
   ]
  },
  {
   "cell_type": "code",
   "execution_count": 322,
   "metadata": {},
   "outputs": [
    {
     "data": {
      "text/html": [
       "<div>\n",
       "<style scoped>\n",
       "    .dataframe tbody tr th:only-of-type {\n",
       "        vertical-align: middle;\n",
       "    }\n",
       "\n",
       "    .dataframe tbody tr th {\n",
       "        vertical-align: top;\n",
       "    }\n",
       "\n",
       "    .dataframe thead th {\n",
       "        text-align: right;\n",
       "    }\n",
       "</style>\n",
       "<table border=\"1\" class=\"dataframe\">\n",
       "  <thead>\n",
       "    <tr style=\"text-align: right;\">\n",
       "      <th></th>\n",
       "      <th></th>\n",
       "      <th>Purchase Count</th>\n",
       "      <th>Item Price</th>\n",
       "      <th>Total Purchase Value</th>\n",
       "    </tr>\n",
       "    <tr>\n",
       "      <th>Item ID</th>\n",
       "      <th>Item Name</th>\n",
       "      <th></th>\n",
       "      <th></th>\n",
       "      <th></th>\n",
       "    </tr>\n",
       "  </thead>\n",
       "  <tbody>\n",
       "    <tr>\n",
       "      <th>34</th>\n",
       "      <th>Retribution Axe</th>\n",
       "      <td>9</td>\n",
       "      <td>4.14</td>\n",
       "      <td>37.26</td>\n",
       "    </tr>\n",
       "    <tr>\n",
       "      <th>115</th>\n",
       "      <th>Spectral Diamond Doomblade</th>\n",
       "      <td>7</td>\n",
       "      <td>4.25</td>\n",
       "      <td>29.75</td>\n",
       "    </tr>\n",
       "    <tr>\n",
       "      <th>32</th>\n",
       "      <th>Orenmir</th>\n",
       "      <td>6</td>\n",
       "      <td>4.95</td>\n",
       "      <td>29.70</td>\n",
       "    </tr>\n",
       "    <tr>\n",
       "      <th>103</th>\n",
       "      <th>Singed Scalpel</th>\n",
       "      <td>6</td>\n",
       "      <td>4.87</td>\n",
       "      <td>29.22</td>\n",
       "    </tr>\n",
       "    <tr>\n",
       "      <th>107</th>\n",
       "      <th>Splitter, Foe Of Subtlety</th>\n",
       "      <td>8</td>\n",
       "      <td>3.61</td>\n",
       "      <td>28.88</td>\n",
       "    </tr>\n",
       "  </tbody>\n",
       "</table>\n",
       "</div>"
      ],
      "text/plain": [
       "                                    Purchase Count  Item Price  \\\n",
       "Item ID Item Name                                                \n",
       "34      Retribution Axe                          9        4.14   \n",
       "115     Spectral Diamond Doomblade               7        4.25   \n",
       "32      Orenmir                                  6        4.95   \n",
       "103     Singed Scalpel                           6        4.87   \n",
       "107     Splitter, Foe Of Subtlety                8        3.61   \n",
       "\n",
       "                                    Total Purchase Value  \n",
       "Item ID Item Name                                         \n",
       "34      Retribution Axe                            37.26  \n",
       "115     Spectral Diamond Doomblade                 29.75  \n",
       "32      Orenmir                                    29.70  \n",
       "103     Singed Scalpel                             29.22  \n",
       "107     Splitter, Foe Of Subtlety                  28.88  "
      ]
     },
     "execution_count": 322,
     "metadata": {},
     "output_type": "execute_result"
    }
   ],
   "source": [
    "# Creating DataFrame & setting index\n",
    "profit_items_df = pd.DataFrame({\n",
    "    \"Item ID\": item_ids,\n",
    "    \"Item Name\": profit_names,\n",
    "    \"Purchase Count\": counts,\n",
    "    \"Item Price\": profit_prices,\n",
    "    \"Total Purchase Value\": values\n",
    "})\n",
    "profit_items_df = profit_items_df.set_index([\"Item ID\", \"Item Name\"])\n",
    "profit_items_df = profit_items_df[[\"Purchase Count\", \"Item Price\", \"Total Purchase Value\"]]\n",
    "\n",
    "profit_items_df"
   ]
  },
  {
   "cell_type": "markdown",
   "metadata": {},
   "source": [
    "**Observable Trends**\n",
    "\n",
    "1.  Although men make up the majority of the purchases of all games, the normalized amount spent per game is actually higher for those in the Other/Non Disclosed category by around 0.29 cents per game.\n",
    "\n",
    "2. There was no overlap in games amongst the most profitable and the most popular, even though Retribution Axe also had 9 purchases.  This might be because the games are listed n random or alphabetical order leaving Retribution Axe excluded from the popular game data set.\n",
    "\n",
    "3. Majority of game purchases are done by people under the age of 25, even though people over 40 spent more on an average purchase. "
   ]
  },
  {
   "cell_type": "code",
   "execution_count": null,
   "metadata": {},
   "outputs": [],
   "source": []
  }
 ],
 "metadata": {
  "kernelspec": {
   "display_name": "Python [conda env:PythonData]",
   "language": "python",
   "name": "conda-env-PythonData-py"
  },
  "language_info": {
   "codemirror_mode": {
    "name": "ipython",
    "version": 3
   },
   "file_extension": ".py",
   "mimetype": "text/x-python",
   "name": "python",
   "nbconvert_exporter": "python",
   "pygments_lexer": "ipython3",
   "version": "3.6.4"
  }
 },
 "nbformat": 4,
 "nbformat_minor": 2
}
